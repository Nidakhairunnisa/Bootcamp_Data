{
  "nbformat": 4,
  "nbformat_minor": 0,
  "metadata": {
    "colab": {
      "name": "Task 2 - Nida Khairunnisa Kusumawardhani",
      "provenance": []
    },
    "kernelspec": {
      "name": "python3",
      "display_name": "Python 3"
    },
    "language_info": {
      "name": "python"
    }
  },
  "cells": [
    {
      "cell_type": "markdown",
      "metadata": {
        "id": "JhxwSoJSTGCh"
      },
      "source": [
        "### 1. Buatlah variabel dengan nama ClubEropa dengan tipe data dictionary 4 key (nama_club, pelatih_club, Negara, pemain), yang masing-masing nya memiliki 4 value Bebas"
      ]
    },
    {
      "cell_type": "code",
      "metadata": {
        "colab": {
          "base_uri": "https://localhost:8080/"
        },
        "id": "S6xuFVelPNvX",
        "outputId": "fc0be99c-f859-4f9b-e2bd-284133baa943"
      },
      "source": [
        "ClubEropa = {\n",
        "    \"nama_club\": \"Barcelonar\",\n",
        "    \"pelatih_club\": \"Ronald Koeman\", \n",
        "    \"Negara\": \"Spanish\", \n",
        "    \"pemain\": \"Gerard Pique\",\n",
        "}\n",
        "print(ClubEropa)"
      ],
      "execution_count": null,
      "outputs": [
        {
          "output_type": "stream",
          "name": "stdout",
          "text": [
            "{'nama_club': 'Barcelonar', 'pelatih_club': 'Ronald Koeman', 'Negara': 'Spanish', 'pemain': 'Gerard Pique'}\n"
          ]
        }
      ]
    },
    {
      "cell_type": "markdown",
      "metadata": {
        "id": "FCDXDm-QThQb"
      },
      "source": [
        "### 2. Tambahkan key sponsor pada variabel ClubEropa yang tentunya memiliki 4 value."
      ]
    },
    {
      "cell_type": "code",
      "metadata": {
        "colab": {
          "base_uri": "https://localhost:8080/"
        },
        "id": "8P_JneZIrxmD",
        "outputId": "d743dfb0-060f-47cf-b38a-53029fea4edb"
      },
      "source": [
        "ClubEropa[\"sponsor\"] = \"adidas\"\n",
        "print(ClubEropa)"
      ],
      "execution_count": null,
      "outputs": [
        {
          "output_type": "stream",
          "name": "stdout",
          "text": [
            "{'nama_club': 'Barcelonar', 'pelatih_club': 'Ronald Koeman', 'Negara': 'Spanish', 'pemain': 'Gerard Pique', 'sponsor': 'adidas'}\n"
          ]
        }
      ]
    },
    {
      "cell_type": "markdown",
      "metadata": {
        "id": "NiLz-4rFU6dk"
      },
      "source": [
        "### 3. Buatlah 4 variable array yang memiliki 5 elemen angka pada masing-masing nya (bebas nama array dan elemennya), kemudian lakukan:          "
      ]
    },
    {
      "cell_type": "code",
      "metadata": {
        "id": "9xcdzcf-Xs4W"
      },
      "source": [
        "import numpy as np\n",
        "array_1 = np.array([5,8,12,32,6])\n",
        "array_2 = np.array([43,76,53,90,52])\n",
        "array_3 = np.array([12,54,2,7,34])\n",
        "array_4 = np.array([1,2,3,4,5])"
      ],
      "execution_count": null,
      "outputs": []
    },
    {
      "cell_type": "markdown",
      "metadata": {
        "id": "CsA65aT5XGHN"
      },
      "source": [
        "a. Perkalian pada variable array 1 dengan variable array 3"
      ]
    },
    {
      "cell_type": "code",
      "metadata": {
        "colab": {
          "base_uri": "https://localhost:8080/"
        },
        "id": "qaxHFVsEemxE",
        "outputId": "254efed8-08f7-47f1-af47-92ffda610478"
      },
      "source": [
        "perkalian = np.multiply(array_1, array_3)\n",
        "print(perkalian)"
      ],
      "execution_count": null,
      "outputs": [
        {
          "output_type": "stream",
          "name": "stdout",
          "text": [
            "[ 60 432  24 224 204]\n"
          ]
        }
      ]
    },
    {
      "cell_type": "markdown",
      "metadata": {
        "id": "VHsfQgXqW1Y6"
      },
      "source": [
        "b. Penjumlahan pada variable array 2 dengan variable array 4"
      ]
    },
    {
      "cell_type": "code",
      "metadata": {
        "colab": {
          "base_uri": "https://localhost:8080/"
        },
        "id": "OUkYPGq7akjL",
        "outputId": "b5b65e95-c884-4aef-bb37-e88826930fa3"
      },
      "source": [
        "penjumlahan = np.add(array_2, array_4)\n",
        "print(penjumlahan)"
      ],
      "execution_count": null,
      "outputs": [
        {
          "output_type": "stream",
          "name": "stdout",
          "text": [
            "[44 78 56 94 57]\n"
          ]
        }
      ]
    },
    {
      "cell_type": "markdown",
      "metadata": {
        "id": "kW0sa5PxXahw"
      },
      "source": [
        "c. Jika ada irisan, dapatkan irisan pada variable 1 dengan 4"
      ]
    },
    {
      "cell_type": "code",
      "metadata": {
        "colab": {
          "base_uri": "https://localhost:8080/"
        },
        "id": "8GG6RtGaifyC",
        "outputId": "860992fe-60ef-44c2-8448-86b51fc8e53e"
      },
      "source": [
        "irisan = np.intersect1d(array_1, array_4, assume_unique=True)\n",
        "print(irisan)"
      ],
      "execution_count": null,
      "outputs": [
        {
          "output_type": "stream",
          "name": "stdout",
          "text": [
            "[5]\n"
          ]
        }
      ]
    },
    {
      "cell_type": "markdown",
      "metadata": {
        "id": "ltK-xZ10XoCx"
      },
      "source": [
        "d. Ambil nilai pada urutan ke 1, 3, dan 5 pada variabel kedua"
      ]
    },
    {
      "cell_type": "code",
      "metadata": {
        "colab": {
          "base_uri": "https://localhost:8080/"
        },
        "id": "iEYJ4QTrk2gg",
        "outputId": "26299ef3-fead-4234-b2e8-98281fc62c38"
      },
      "source": [
        "ind = [0,2,4]\n",
        "array_2[ind]"
      ],
      "execution_count": null,
      "outputs": [
        {
          "output_type": "execute_result",
          "data": {
            "text/plain": [
              "array([43, 53, 52])"
            ]
          },
          "metadata": {},
          "execution_count": 56
        }
      ]
    },
    {
      "cell_type": "markdown",
      "metadata": {
        "id": "mApuGZQRuEso"
      },
      "source": [
        "### 4. Buatlah variabel nilai_kelas dari 4 kelas berbeda, dimana masing masing kelas berisi nilai 4 siswa, kemudian kurangi semua nilai siswa dengan 5 sebagai nilai hukuman karena menyontek"
      ]
    },
    {
      "cell_type": "code",
      "metadata": {
        "colab": {
          "base_uri": "https://localhost:8080/"
        },
        "id": "phwpY4Y-uM2n",
        "outputId": "b343e5ce-5bee-4351-8ccb-a8a0c56b4fc0"
      },
      "source": [
        "nilai_kelas = np.array([[100,80,75,85], [80,80,95,65], [80,90,95,70], [90,97,86,79]])\n",
        "hukuman = np.array([5])\n",
        "nilai_final = np.subtract(nilai_kelas, hukuman)\n",
        "print(nilai_final)"
      ],
      "execution_count": null,
      "outputs": [
        {
          "output_type": "stream",
          "name": "stdout",
          "text": [
            "[[95 75 70 80]\n",
            " [75 75 90 60]\n",
            " [75 85 90 65]\n",
            " [85 92 81 74]]\n"
          ]
        }
      ]
    },
    {
      "cell_type": "markdown",
      "metadata": {
        "id": "UvBJ1i1H1B_B"
      },
      "source": [
        "### 5. jelaskan sejarah python, keunggulan dan apa kegunaannya?"
      ]
    },
    {
      "cell_type": "markdown",
      "metadata": {
        "id": "tmMnzqYX1QA2"
      },
      "source": [
        "**Sejarah**\n",
        "\n",
        "Python diciptakan oleh Guido van Rossum pertama kali di  Centrum Wiskunde & Informatica (CWI) di Belanda pada awal tahun 1990-an. Di tahun 1995, Guido melanjutkan pembuatan python di Corporation for National Research Initiative (CNRI) di Virginia Amerika, di mana dia merilis beberapa versi dari python. Pada Mei 2000, Guido dan tim Python pindah ke BeOpen.com dan membentuk tim BeOpen PythonLabs. Di bulan Oktober pada tahun yang sama, tim python pindah ke Digital Creation (sekarang menjadi Perusahaan Zope). Pada tahun 2001, dibentuklah Organisasi Python yaitu Python Software Foundation (PSF). PSF merupakan organisasi nirlaba yang dibuat khusus untuk semua hal yang berkaitan dengan hak intelektual Python.\n",
        "\n",
        "Semua versi python yang dirilis bersifat open source. Dalam sejarahnya, hampir semua rilis python menggunakan lisensi GFL-compatible.\n",
        "\n",
        "Nama python sendiri tidak berasal dari nama ular yang kita kenal. Guido adalah penggemar grup komedi Inggris bernama Monty Python. Ia kemudian menamai bahasa ciptaannya dengan nama Python.\n",
        "\n",
        "\n",
        "---\n",
        "\n",
        "**Keunggulan **\n",
        "\n",
        "Python merupakan bahasa pemrograman yang dianggap mudah untuk dipelajari, selain itu python memiliki kemudahannya dalam diaplikasikan dalam mengembangkan sebuah produk, baik itu web, software, maupun video game. kemudian Program yang ditulis menggunakan Python dapat dijalankan di hampir semua sistem operasi dan open source.\n",
        "\n",
        "\n",
        "---\n",
        "\n",
        "**Kegunaan**\n",
        "\n",
        "Python dapat diaplikasikan dalam mengembangkan sebuah produk baik itu web, software, Analisis data dan video game. selain itu python juga mendukung ekosistem IoT. \n"
      ]
    }
  ]
}