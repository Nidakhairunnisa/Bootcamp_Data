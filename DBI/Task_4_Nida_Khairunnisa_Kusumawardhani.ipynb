{
  "nbformat": 4,
  "nbformat_minor": 0,
  "metadata": {
    "colab": {
      "name": "Task 4_Nida Khairunnisa Kusumawardhani.ipynb",
      "provenance": []
    },
    "kernelspec": {
      "name": "python3",
      "display_name": "Python 3"
    },
    "language_info": {
      "name": "python"
    }
  },
  "cells": [
    {
      "cell_type": "markdown",
      "metadata": {
        "id": "dkKJTV6itqAj"
      },
      "source": [
        "## 1. Buatlah 1 function dengan nama Kalkulator_luas dimana terdapat 3 parameter yaitu luas, panjang (bisa dijadikan tinggi) dan lebar (bisa dijadikan alas) yang fungsi nya dapat melakukan 4 metode luas_BujurSangkar, luas_Segitiga, luas_JajarGenjang dan luas_Trapesium"
      ]
    },
    {
      "cell_type": "code",
      "metadata": {
        "id": "H1AO45ftsWrJ",
        "colab": {
          "base_uri": "https://localhost:8080/"
        },
        "outputId": "ee4ffa07-b0fd-46a7-aed6-b5cc42f3c356"
      },
      "source": [
        "def kalkulator_luas(metode, a, b, t):\n",
        "  if metode == \"luas_BujurSangkar\":\n",
        "    hasil = a * b\n",
        "    # a dan b adalah sisi\n",
        "  elif metode == \"luas_Segitiga\":\n",
        "    hasil = 0.5 * a * t\n",
        "    # a adalah alas dan b adalah tinggi\n",
        "  elif metode == \"luas_JajarGenjang\":\n",
        "    hasil = a * t \n",
        "    # a adalah alas dan b adalah tinggi\n",
        "  elif metode == \"luas_Trapesium\":\n",
        "    hasil = 0.5 * (a + b) * t\n",
        "  else:\n",
        "    hasil = \"metode tidak ditemukan\"\n",
        "  return hasil\n",
        "\n",
        "print(kalkulator_luas(\"luas_BujurSangkar\", 4,4,0))\n",
        "print(kalkulator_luas(\"luas_Segitiga\", 4,0,6))\n",
        "print(kalkulator_luas(\"luas_JajarGenjang\", 5,0,10))\n",
        "print(kalkulator_luas(\"luas_Trapesium\", 8,4,2))"
      ],
      "execution_count": null,
      "outputs": [
        {
          "output_type": "stream",
          "name": "stdout",
          "text": [
            "16\n",
            "12.0\n",
            "50\n",
            "12.0\n"
          ]
        }
      ]
    },
    {
      "cell_type": "markdown",
      "metadata": {
        "id": "sk7SiawTrgj5"
      },
      "source": [
        "## 2. Buatlah 1 function tanpa parameter dan terdapat 1 variable, dimana kamu melakukan logaritma pada variabel tersebut"
      ]
    },
    {
      "cell_type": "code",
      "metadata": {
        "colab": {
          "base_uri": "https://localhost:8080/"
        },
        "id": "wa7sF28lrv-z",
        "outputId": "3d8a57d0-9607-45e4-c2ff-41de33041656"
      },
      "source": [
        "cuaca = \"cuaca hari ini mendung\"\n",
        "def perkiraan_cuaca(cuaca):\n",
        "  cuaca = \"cuaca hari ini cerah\"\n",
        "  print(cuaca)\n",
        "\n",
        "perkiraan_cuaca(cuaca)\n",
        "print(cuaca)"
      ],
      "execution_count": null,
      "outputs": [
        {
          "output_type": "stream",
          "name": "stdout",
          "text": [
            "cuaca hari ini cerah\n",
            "cuaca hari ini mendung\n"
          ]
        }
      ]
    },
    {
      "cell_type": "markdown",
      "metadata": {
        "id": "MWfttQv4tcY5"
      },
      "source": [
        "## 3. dengan menggunakan data banking pada course “python processing”. Silahkan buat variable baru yaitu Status dengan menggunakan perulangan for pada tiap barisnya dimana berdasarkan syarat : Pada variable job harus management, lalu pada variable education harus university. Dan yang terakhir durasi mengutang tidak lebih dari 150 hari. Dan beri label rich. Sedangkan Pada variable job harus teknisi, lalu pada variable education harus university. Dan yang terakhir durasi mengutang antara 150 sampai 200 hari. Dan beri label middle Dan yang terakhir Pada variable job harus buruh, lalu pada variable education harus basic. Dan yang terakhir durasi mengutang lebih dari 200 hari. Dan beri label poor"
      ]
    },
    {
      "cell_type": "code",
      "metadata": {
        "colab": {
          "base_uri": "https://localhost:8080/"
        },
        "id": "promgqyauSHL",
        "outputId": "7a610174-869a-4b3c-b522-6789371b88fe"
      },
      "source": [
        "job = \"managemnt\"\n",
        "education = \"university\"\n",
        "durasi_mengulang = 170\n",
        "\n",
        "if job == \"management\":\n",
        "  if education == \"university\":\n",
        "    if durasi_mengulang <= 150:\n",
        "      print(\"Rich\")\n",
        "elif job == \"teknisi\":\n",
        "  if education == \"university\":\n",
        "    if durasi_mengulang >= 150 and durasi_mengulang <= 200: \n",
        "      print(\"Middle\")\n",
        "elif job == \"buruh\":\n",
        "  if education == \"basic\":\n",
        "    if durasi_mengulang >= 200: \n",
        "      print(\"Poor\")\n",
        "else:\n",
        "  print(\"status tidak terdefinisi\")"
      ],
      "execution_count": null,
      "outputs": [
        {
          "output_type": "stream",
          "name": "stdout",
          "text": [
            "status tidak terdefinisi\n"
          ]
        }
      ]
    },
    {
      "cell_type": "markdown",
      "metadata": {
        "id": "JS6OLKGg1ePk"
      },
      "source": [
        "## 4. Buatlah conditional statement untuk menentukan apakah suatu bilangan itu positif, negatif, atau netral. Buatlah dalam 2 bentuk, bentuk normal if, elif... (a = -24, b=10, c= 0)."
      ]
    },
    {
      "cell_type": "code",
      "metadata": {
        "colab": {
          "base_uri": "https://localhost:8080/"
        },
        "id": "Y_CrIKeS6CPn",
        "outputId": "71dabdac-3421-425b-fb66-1693d65ee60c"
      },
      "source": [
        "a = -24\n",
        "\n",
        "if a < 0 :\n",
        "  print(\"bilangan ini merupakan blangan negatif\")"
      ],
      "execution_count": null,
      "outputs": [
        {
          "output_type": "stream",
          "name": "stdout",
          "text": [
            "bilangan ini merupakan blangan negatif\n"
          ]
        }
      ]
    },
    {
      "cell_type": "code",
      "metadata": {
        "colab": {
          "base_uri": "https://localhost:8080/"
        },
        "id": "ydMOHyl_6hgN",
        "outputId": "1583fab8-ed84-4b97-e80e-69e5ec813452"
      },
      "source": [
        "b = 10\n",
        "\n",
        "if b > 0 :\n",
        "  print(\"bilangan ini merupakan bilangan postif\")"
      ],
      "execution_count": null,
      "outputs": [
        {
          "output_type": "stream",
          "name": "stdout",
          "text": [
            "bilangan ini merupakan bilangan postif\n"
          ]
        }
      ]
    },
    {
      "cell_type": "code",
      "metadata": {
        "colab": {
          "base_uri": "https://localhost:8080/"
        },
        "id": "4hmEVM6k7Mkp",
        "outputId": "be644ddb-2fb4-422d-ec4c-0d5d0fa19f2b"
      },
      "source": [
        "c = 0\n",
        "\n",
        "if c == 0 :\n",
        "  print(\"bilangan ini merupakan bilangan netral\")"
      ],
      "execution_count": null,
      "outputs": [
        {
          "output_type": "stream",
          "name": "stdout",
          "text": [
            "bilangan ini merupakan bilangan netral\n"
          ]
        }
      ]
    },
    {
      "cell_type": "code",
      "metadata": {
        "colab": {
          "base_uri": "https://localhost:8080/"
        },
        "id": "MrC3OMbh1iXC",
        "outputId": "c7a0d38e-0670-481e-97d1-f7955509fc92"
      },
      "source": [
        "bilangan = -24\n",
        "# angka pada bilangan dapat dirubah sesuai dengan soal (a = -24, b=10, c= 0)\n",
        "\n",
        "if bilangan > 0 :\n",
        "  print(\"bilangan ini merupakan bilangan postif\")\n",
        "elif bilangan < 0 :\n",
        "  print (\"bilangan ini merupakan blangan negatif\")\n",
        "else : \n",
        "  print (\"bilangan ini merupakan blangan netral\")"
      ],
      "execution_count": null,
      "outputs": [
        {
          "output_type": "stream",
          "name": "stdout",
          "text": [
            "bilangan ini merupakan blangan negatif\n"
          ]
        }
      ]
    },
    {
      "cell_type": "markdown",
      "metadata": {
        "id": "uiwixqyu7xEi"
      },
      "source": [
        "## 5. Buatlah iterasi pada list_angka = [1,2,6,9, 15,18, 20 ,21, 23, 27, 32, 39] untuk mendapatkan list bilangan ganjil namun tidak habis dibagi 3, kemudian hitunglah jumlah nya item yang fit dengan kriteria tersebut."
      ]
    },
    {
      "cell_type": "code",
      "metadata": {
        "colab": {
          "base_uri": "https://localhost:8080/"
        },
        "id": "WAV03XyL9aGx",
        "outputId": "3c2c026c-7af5-41be-faca-f22de31c94b8"
      },
      "source": [
        "list_angka = [1, 2, 6, 9, 15, 18, 20 ,21, 23, 27, 32, 39]\n",
        "list_diminta = []\n",
        "for i in list_angka:\n",
        "  if i%2 != 0 and i%3 != 0:\n",
        "    list_diminta.append(i)\n",
        "    print(\"bilangan ini merupakan bilangan ganjil\")\n",
        "  else: \n",
        "    print(\"bilangan ini merupakan bilangan genap\")\n"
      ],
      "execution_count": null,
      "outputs": [
        {
          "output_type": "stream",
          "name": "stdout",
          "text": [
            "bilangan ini merupakan bilangan ganjil\n",
            "bilangan ini merupakan bilangan genap\n",
            "bilangan ini merupakan bilangan genap\n",
            "bilangan ini merupakan bilangan genap\n",
            "bilangan ini merupakan bilangan genap\n",
            "bilangan ini merupakan bilangan genap\n",
            "bilangan ini merupakan bilangan genap\n",
            "bilangan ini merupakan bilangan genap\n",
            "bilangan ini merupakan bilangan ganjil\n",
            "bilangan ini merupakan bilangan genap\n",
            "bilangan ini merupakan bilangan genap\n",
            "bilangan ini merupakan bilangan genap\n"
          ]
        }
      ]
    },
    {
      "cell_type": "code",
      "metadata": {
        "colab": {
          "base_uri": "https://localhost:8080/"
        },
        "id": "g6QdVg8jDwUU",
        "outputId": "12056be6-162e-4ec9-bb9e-40256bf9113e"
      },
      "source": [
        "print(18%3)"
      ],
      "execution_count": null,
      "outputs": [
        {
          "output_type": "stream",
          "name": "stdout",
          "text": [
            "0\n"
          ]
        }
      ]
    }
  ]
}