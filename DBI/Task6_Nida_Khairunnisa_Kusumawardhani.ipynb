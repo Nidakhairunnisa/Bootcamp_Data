{
  "nbformat": 4,
  "nbformat_minor": 0,
  "metadata": {
    "colab": {
      "name": "Task6_Nida Khairunnisa Kusumawardhani",
      "provenance": []
    },
    "kernelspec": {
      "name": "python3",
      "display_name": "Python 3"
    },
    "language_info": {
      "name": "python"
    }
  },
  "cells": [
    {
      "cell_type": "code",
      "metadata": {
        "id": "JP_q-YYwG5iC"
      },
      "source": [
        "import pandas as pd\n",
        "import numpy as np\n",
        "import matplotlib.pyplot as plt\n",
        "import seaborn as sns\n",
        "import warnings\n",
        "warnings.filterwarnings(\"ignore\")"
      ],
      "execution_count": null,
      "outputs": []
    },
    {
      "cell_type": "code",
      "metadata": {
        "colab": {
          "base_uri": "https://localhost:8080/"
        },
        "id": "y1GtiKTYHtRF",
        "outputId": "3b6e47b5-e42d-44d8-f620-8fefd9d69151"
      },
      "source": [
        "from google.colab import drive\n",
        "drive.mount('/content/gdrive')"
      ],
      "execution_count": null,
      "outputs": [
        {
          "output_type": "stream",
          "name": "stdout",
          "text": [
            "Mounted at /content/gdrive\n"
          ]
        }
      ]
    },
    {
      "cell_type": "code",
      "metadata": {
        "id": "7UAddqTmIBpd"
      },
      "source": [
        "df=pd.read_csv('/content/gdrive/MyDrive/Bootcamp Data Bangalore/Dataset/sample_submission.csv')"
      ],
      "execution_count": null,
      "outputs": []
    },
    {
      "cell_type": "code",
      "metadata": {
        "colab": {
          "base_uri": "https://localhost:8080/"
        },
        "id": "uGyE_AeWISoE",
        "outputId": "d81708ca-a233-4d9a-d9fc-b9059350f3fa"
      },
      "source": [
        "df.shape"
      ],
      "execution_count": null,
      "outputs": [
        {
          "output_type": "execute_result",
          "data": {
            "text/plain": [
              "(1459, 2)"
            ]
          },
          "metadata": {},
          "execution_count": 5
        }
      ]
    },
    {
      "cell_type": "code",
      "metadata": {
        "colab": {
          "base_uri": "https://localhost:8080/"
        },
        "id": "X6vDE9JfIZBi",
        "outputId": "ff79a288-209b-4627-c1e7-9783b0dce4c9"
      },
      "source": [
        "df.info()"
      ],
      "execution_count": null,
      "outputs": [
        {
          "output_type": "stream",
          "name": "stdout",
          "text": [
            "<class 'pandas.core.frame.DataFrame'>\n",
            "RangeIndex: 1459 entries, 0 to 1458\n",
            "Data columns (total 2 columns):\n",
            " #   Column     Non-Null Count  Dtype  \n",
            "---  ------     --------------  -----  \n",
            " 0   Id         1459 non-null   int64  \n",
            " 1   SalePrice  1459 non-null   float64\n",
            "dtypes: float64(1), int64(1)\n",
            "memory usage: 22.9 KB\n"
          ]
        }
      ]
    },
    {
      "cell_type": "code",
      "metadata": {
        "colab": {
          "base_uri": "https://localhost:8080/"
        },
        "id": "txP5dVq5JBgG",
        "outputId": "6c866303-0ff5-4fe2-fadd-2f86ce56aa60"
      },
      "source": [
        "df.isnull().any()"
      ],
      "execution_count": null,
      "outputs": [
        {
          "output_type": "execute_result",
          "data": {
            "text/plain": [
              "Id           False\n",
              "SalePrice    False\n",
              "dtype: bool"
            ]
          },
          "metadata": {},
          "execution_count": 8
        }
      ]
    },
    {
      "cell_type": "markdown",
      "metadata": {
        "id": "YG63rFOaLsbp"
      },
      "source": [
        "## 1. Tunjukkan statistika deskriptif untuk variabel harga rumah (Column Name : SalePrice pada data sample submission) lalu interpretasikan!"
      ]
    },
    {
      "cell_type": "markdown",
      "metadata": {
        "id": "CI1o6xzhYIrB"
      },
      "source": [
        "**Mean**"
      ]
    },
    {
      "cell_type": "code",
      "metadata": {
        "colab": {
          "base_uri": "https://localhost:8080/"
        },
        "id": "KlAoPXUmNESE",
        "outputId": "180f201f-01df-4f32-8e94-0b5bb6d66cd7"
      },
      "source": [
        "sale_mean = df[\"SalePrice\"].mean()\n",
        "sale_mean"
      ],
      "execution_count": null,
      "outputs": [
        {
          "output_type": "execute_result",
          "data": {
            "text/plain": [
              "179183.91824266282"
            ]
          },
          "metadata": {},
          "execution_count": 61
        }
      ]
    },
    {
      "cell_type": "markdown",
      "metadata": {
        "id": "HmXfW7iHYOj9"
      },
      "source": [
        "**Median**"
      ]
    },
    {
      "cell_type": "code",
      "metadata": {
        "colab": {
          "base_uri": "https://localhost:8080/"
        },
        "id": "AjrFySYPNkCo",
        "outputId": "5b2d0c2a-35c0-4c31-fc4e-78aeeff67b7b"
      },
      "source": [
        "df[\"SalePrice\"].median()"
      ],
      "execution_count": null,
      "outputs": [
        {
          "output_type": "execute_result",
          "data": {
            "text/plain": [
              "179208.66569844898"
            ]
          },
          "metadata": {},
          "execution_count": 13
        }
      ]
    },
    {
      "cell_type": "markdown",
      "metadata": {
        "id": "S09-8MWmYRMf"
      },
      "source": [
        "**Mode**"
      ]
    },
    {
      "cell_type": "code",
      "metadata": {
        "colab": {
          "base_uri": "https://localhost:8080/"
        },
        "id": "vPCTM-eENqMp",
        "outputId": "d2de8959-e99f-417c-c4d0-d5662a29a4db"
      },
      "source": [
        "df[\"SalePrice\"].mode()"
      ],
      "execution_count": null,
      "outputs": [
        {
          "output_type": "execute_result",
          "data": {
            "text/plain": [
              "0    174126.297156\n",
              "1    174388.867433\n",
              "dtype: float64"
            ]
          },
          "metadata": {},
          "execution_count": 14
        }
      ]
    },
    {
      "cell_type": "markdown",
      "metadata": {
        "id": "LREXk-i2YqpL"
      },
      "source": [
        "**Variance**"
      ]
    },
    {
      "cell_type": "code",
      "metadata": {
        "colab": {
          "base_uri": "https://localhost:8080/"
        },
        "id": "Q6HC0M1tNzLQ",
        "outputId": "82834cf2-03c4-45a3-e679-eac761988b33"
      },
      "source": [
        "df[\"SalePrice\"].var()"
      ],
      "execution_count": null,
      "outputs": [
        {
          "output_type": "execute_result",
          "data": {
            "text/plain": [
              "272854335.6813673"
            ]
          },
          "metadata": {},
          "execution_count": 15
        }
      ]
    },
    {
      "cell_type": "markdown",
      "metadata": {
        "id": "JhR-y0RoYupE"
      },
      "source": [
        "**Standard Deviation**"
      ]
    },
    {
      "cell_type": "code",
      "metadata": {
        "colab": {
          "base_uri": "https://localhost:8080/"
        },
        "id": "XpZ9lYNPN6Pp",
        "outputId": "877db9e7-0ed0-41c6-8913-5879728ad81f"
      },
      "source": [
        "df[\"SalePrice\"].std()"
      ],
      "execution_count": null,
      "outputs": [
        {
          "output_type": "execute_result",
          "data": {
            "text/plain": [
              "16518.30305089985"
            ]
          },
          "metadata": {},
          "execution_count": 16
        }
      ]
    },
    {
      "cell_type": "markdown",
      "metadata": {
        "id": "sHwXd654Yz_y"
      },
      "source": [
        "**Range**"
      ]
    },
    {
      "cell_type": "code",
      "metadata": {
        "colab": {
          "base_uri": "https://localhost:8080/"
        },
        "id": "FYC0KaR5OKZ6",
        "outputId": "2685e48b-0d91-4b28-931e-ea9cf475045d"
      },
      "source": [
        "m1=df[\"SalePrice\"].max()\n",
        "m1\n",
        "m2=df[\"SalePrice\"].min()\n",
        "m2\n",
        "range=m1-m2\n",
        "range"
      ],
      "execution_count": null,
      "outputs": [
        {
          "output_type": "execute_result",
          "data": {
            "text/plain": [
              "145892.65722397002"
            ]
          },
          "metadata": {},
          "execution_count": 17
        }
      ]
    },
    {
      "cell_type": "markdown",
      "metadata": {
        "id": "6AuAsgS9ZM42"
      },
      "source": [
        "**Quartile**"
      ]
    },
    {
      "cell_type": "code",
      "metadata": {
        "colab": {
          "base_uri": "https://localhost:8080/"
        },
        "id": "DkTcmgS1OfdI",
        "outputId": "9c35bca0-a98f-4efb-f146-3b0dda13aef1"
      },
      "source": [
        "Q1=df[\"SalePrice\"].quantile(0.25)\n",
        "Q1\n",
        "Q3=df[\"SalePrice\"].quantile(0.75)\n",
        "Q3\n",
        "IQR=Q3-Q1\n",
        "IQR"
      ],
      "execution_count": null,
      "outputs": [
        {
          "output_type": "execute_result",
          "data": {
            "text/plain": [
              "18086.398161694495"
            ]
          },
          "metadata": {},
          "execution_count": 18
        }
      ]
    },
    {
      "cell_type": "markdown",
      "metadata": {
        "id": "QiRTU2cAZfOD"
      },
      "source": [
        "**Describe**"
      ]
    },
    {
      "cell_type": "code",
      "metadata": {
        "colab": {
          "base_uri": "https://localhost:8080/"
        },
        "id": "E7amk5eOOy7u",
        "outputId": "7a94e736-d8c7-4eed-edf7-cfee498a7511"
      },
      "source": [
        "df[\"SalePrice\"].describe()"
      ],
      "execution_count": null,
      "outputs": [
        {
          "output_type": "execute_result",
          "data": {
            "text/plain": [
              "count      1459.000000\n",
              "mean     179183.918243\n",
              "std       16518.303051\n",
              "min      135751.318893\n",
              "25%      168703.011202\n",
              "50%      179208.665698\n",
              "75%      186789.409363\n",
              "max      281643.976117\n",
              "Name: SalePrice, dtype: float64"
            ]
          },
          "metadata": {},
          "execution_count": 21
        }
      ]
    },
    {
      "cell_type": "code",
      "metadata": {
        "colab": {
          "base_uri": "https://localhost:8080/",
          "height": 610
        },
        "id": "bfLaKPHFOzDb",
        "outputId": "e762986a-2a01-4631-beb2-855b10b3c8fb"
      },
      "source": [
        "plt.figure(figsize = (16,10))\n",
        "df.boxplot(column=\"SalePrice\")\n"
      ],
      "execution_count": null,
      "outputs": [
        {
          "output_type": "execute_result",
          "data": {
            "text/plain": [
              "<matplotlib.axes._subplots.AxesSubplot at 0x7f41e29a13d0>"
            ]
          },
          "metadata": {},
          "execution_count": 30
        },
        {
          "output_type": "display_data",
          "data": {
            "image/png": "[encoded data removed]",
            "text/plain": [
              "<Figure size 1152x720 with 1 Axes>"
            ]
          },
          "metadata": {
            "needs_background": "light"
          }
        }
      ]
    },
    {
      "cell_type": "markdown",
      "metadata": {
        "id": "tSUzGBzqZ5uT"
      },
      "source": [
        "Dapat kita lihat pada diagram Box Plot, nilai minimal 135751.318893; Q1 168703.011202; Median 179208.665698; Q3 186789.409363; dan nilai maksimal 281643.976117."
      ]
    },
    {
      "cell_type": "markdown",
      "metadata": {
        "id": "m5VKjVkCQ5pF"
      },
      "source": [
        "## 2. Bagaimana distribusi harga rumah tersebut. Gunakan histogram plot tidak terbatas hanya histogram saja. Jelaskan sebaiknya untuk analisa apakah lebih baik menggunakan mean atau menggunakan median? Beserta alasannya (Column Name : SalePrice)"
      ]
    },
    {
      "cell_type": "code",
      "metadata": {
        "colab": {
          "base_uri": "https://localhost:8080/",
          "height": 610
        },
        "id": "C1zwFdKhQ5FD",
        "outputId": "a846a992-39c2-4ea3-f4ae-e12573559acd"
      },
      "source": [
        "plt.figure(figsize = (16,10))\n",
        "df[\"SalePrice\"].hist()"
      ],
      "execution_count": null,
      "outputs": [
        {
          "output_type": "execute_result",
          "data": {
            "text/plain": [
              "<matplotlib.axes._subplots.AxesSubplot at 0x7f41e275e7d0>"
            ]
          },
          "metadata": {},
          "execution_count": 34
        },
        {
          "output_type": "display_data",
          "data": {
            "image/png": "[encoded data removed]",
            "text/plain": [
              "<Figure size 1152x720 with 1 Axes>"
            ]
          },
          "metadata": {
            "needs_background": "light"
          }
        }
      ]
    },
    {
      "cell_type": "code",
      "metadata": {
        "colab": {
          "base_uri": "https://localhost:8080/",
          "height": 635
        },
        "id": "PAKGC4rtV0TB",
        "outputId": "45fd9e04-1c96-475b-d431-0b718f91bf47"
      },
      "source": [
        "plt.figure(figsize = (16,10))\n",
        "sns.distplot(df[\"SalePrice\"])"
      ],
      "execution_count": null,
      "outputs": [
        {
          "output_type": "execute_result",
          "data": {
            "text/plain": [
              "<matplotlib.axes._subplots.AxesSubplot at 0x7f41e272e810>"
            ]
          },
          "metadata": {},
          "execution_count": 33
        },
        {
          "output_type": "display_data",
          "data": {
            "image/png": "[encoded data removed]",
            "text/plain": [
              "<Figure size 1152x720 with 1 Axes>"
            ]
          },
          "metadata": {
            "needs_background": "light"
          }
        }
      ]
    },
    {
      "cell_type": "markdown",
      "metadata": {
        "id": "1dLUhuQbIBjH"
      },
      "source": [
        "Distribusi yang dihasilkan merupakan distribusi normal"
      ]
    },
    {
      "cell_type": "markdown",
      "metadata": {
        "id": "npdNsJfTNKR8"
      },
      "source": [
        "Secara analisis menggunakan mean. karena mean digunakan sebagai pusat distribusi atau penyebaran nilai lainnya. Nilai tersebut akan menentukan lokasi titik puncak dalam kurva lonceng, sedangkan nilai-nilai lainnya akan menyebar mengikuti rerata"
      ]
    },
    {
      "cell_type": "markdown",
      "metadata": {
        "id": "4dOsZMmfCqDS"
      },
      "source": [
        "## 3. Lakukan sampling untuk data tersebut dengan margin of error 5%! Lakukan pengujian hipotesis untuk harga rumah (Kolom: SalePrice)."
      ]
    },
    {
      "cell_type": "code",
      "metadata": {
        "colab": {
          "base_uri": "https://localhost:8080/"
        },
        "id": "C7IxngSUBsOP",
        "outputId": "1a5c19b2-fea8-41c0-c731-a4f69c67972e"
      },
      "source": [
        "import scipy.stats\n",
        "\n",
        "def mean_confidence_interval(df, confidence=0.05):\n",
        "    a = 1.0 * np.array(df)\n",
        "    n = len(a)\n",
        "    m, se = np.mean(a), scipy.stats.sem(a)\n",
        "    h = se * scipy.stats.t.ppf((1 + confidence) / 2., n-1)\n",
        "    return m, m-h, m+h\n",
        "\n",
        "mean_confidence_interval(df[\"SalePrice\"])"
      ],
      "execution_count": null,
      "outputs": [
        {
          "output_type": "execute_result",
          "data": {
            "text/plain": [
              "(179183.91824266256, 179156.79591052065, 179211.04057480447)"
            ]
          },
          "metadata": {},
          "execution_count": 51
        }
      ]
    }
  ]
}