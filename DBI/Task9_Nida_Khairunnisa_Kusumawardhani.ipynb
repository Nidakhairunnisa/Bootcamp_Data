{
  "cells": [
    {
      "cell_type": "code",
      "source": [
        "import numpy as np\n",
        "import pandas as pd\n",
        "import matplotlib.pyplot as plt\n",
        "import seaborn as sns"
      ],
      "metadata": {
        "id": "6xHme1FqbdJu"
      },
      "execution_count": null,
      "outputs": []
    },
    {
      "cell_type": "code",
      "execution_count": null,
      "metadata": {
        "colab": {
          "base_uri": "https://localhost:8080/"
        },
        "id": "NI-EJOgBES9s",
        "outputId": "e9cf43eb-edae-43ec-a9d5-7b2a9417d99c"
      },
      "outputs": [
        {
          "output_type": "stream",
          "name": "stdout",
          "text": [
            "Mounted at /content/gdrive\n"
          ]
        }
      ],
      "source": [
        "from google.colab import drive\n",
        "drive.mount('/content/gdrive')"
      ]
    },
    {
      "cell_type": "code",
      "execution_count": null,
      "metadata": {
        "id": "NZAbzSUUFFf5"
      },
      "outputs": [],
      "source": [
        "import pandas as pd\n",
        "df = pd.read_excel('/content/gdrive/MyDrive/Bootcamp Data Bangalore/Dataset/credit_scoring_bank_cimb.xlsx')"
      ]
    },
    {
      "cell_type": "code",
      "execution_count": null,
      "metadata": {
        "colab": {
          "base_uri": "https://localhost:8080/"
        },
        "id": "qkZcxioPFkmT",
        "outputId": "c07cc7cf-9260-47a5-e931-9ea70c709f19"
      },
      "outputs": [
        {
          "output_type": "stream",
          "name": "stdout",
          "text": [
            "<class 'pandas.core.frame.DataFrame'>\n",
            "RangeIndex: 900 entries, 0 to 899\n",
            "Data columns (total 7 columns):\n",
            " #   Column                   Non-Null Count  Dtype \n",
            "---  ------                   --------------  ----- \n",
            " 0   kode_kontrak             900 non-null    object\n",
            " 1   pendapatan_setahun_juta  900 non-null    int64 \n",
            " 2   kpr_aktif                900 non-null    object\n",
            " 3   durasi_pinjaman_bulan    900 non-null    int64 \n",
            " 4   jumlah_tanggungan        900 non-null    int64 \n",
            " 5   rata_rata_overdue        900 non-null    object\n",
            " 6   risk_rating              900 non-null    int64 \n",
            "dtypes: int64(4), object(3)\n",
            "memory usage: 49.3+ KB\n"
          ]
        }
      ],
      "source": [
        "df.info()"
      ]
    },
    {
      "cell_type": "code",
      "source": [
        "df.describe()"
      ],
      "metadata": {
        "colab": {
          "base_uri": "https://localhost:8080/",
          "height": 300
        },
        "id": "KTBc7DB5cz9v",
        "outputId": "5b85f1c4-ef0a-43d4-8834-5d8c1fd28a4b"
      },
      "execution_count": null,
      "outputs": [
        {
          "output_type": "execute_result",
          "data": {
            "text/plain": [
              "       pendapatan_setahun_juta  durasi_pinjaman_bulan  jumlah_tanggungan  \\\n",
              "count               900.000000             900.000000         900.000000   \n",
              "mean                163.318889              29.933333           2.932222   \n",
              "std                  51.863210              13.671988           2.007457   \n",
              "min                  70.000000              12.000000           0.000000   \n",
              "25%                 121.000000              12.000000           1.000000   \n",
              "50%                 162.000000              24.000000           3.000000   \n",
              "75%                 199.000000              48.000000           5.000000   \n",
              "max                 300.000000              48.000000           6.000000   \n",
              "\n",
              "       risk_rating  \n",
              "count   900.000000  \n",
              "mean      2.681111  \n",
              "std       1.294928  \n",
              "min       1.000000  \n",
              "25%       1.000000  \n",
              "50%       3.000000  \n",
              "75%       3.000000  \n",
              "max       5.000000  "
            ],
            "text/html": [
              "\n",
              "  <div id=\"df-88adfba8-4d95-4e41-883e-a43a690d9471\">\n",
              "    <div class=\"colab-df-container\">\n",
              "      <div>\n",
              "<style scoped>\n",
              "    .dataframe tbody tr th:only-of-type {\n",
              "        vertical-align: middle;\n",
              "    }\n",
              "\n",
              "    .dataframe tbody tr th {\n",
              "        vertical-align: top;\n",
              "    }\n",
              "\n",
              "    .dataframe thead th {\n",
              "        text-align: right;\n",
              "    }\n",
              "</style>\n",
              "<table border=\"1\" class=\"dataframe\">\n",
              "  <thead>\n",
              "    <tr style=\"text-align: right;\">\n",
              "      <th></th>\n",
              "      <th>pendapatan_setahun_juta</th>\n",
              "      <th>durasi_pinjaman_bulan</th>\n",
              "      <th>jumlah_tanggungan</th>\n",
              "      <th>risk_rating</th>\n",
              "    </tr>\n",
              "  </thead>\n",
              "  <tbody>\n",
              "    <tr>\n",
              "      <th>count</th>\n",
              "      <td>900.000000</td>\n",
              "      <td>900.000000</td>\n",
              "      <td>900.000000</td>\n",
              "      <td>900.000000</td>\n",
              "    </tr>\n",
              "    <tr>\n",
              "      <th>mean</th>\n",
              "      <td>163.318889</td>\n",
              "      <td>29.933333</td>\n",
              "      <td>2.932222</td>\n",
              "      <td>2.681111</td>\n",
              "    </tr>\n",
              "    <tr>\n",
              "      <th>std</th>\n",
              "      <td>51.863210</td>\n",
              "      <td>13.671988</td>\n",
              "      <td>2.007457</td>\n",
              "      <td>1.294928</td>\n",
              "    </tr>\n",
              "    <tr>\n",
              "      <th>min</th>\n",
              "      <td>70.000000</td>\n",
              "      <td>12.000000</td>\n",
              "      <td>0.000000</td>\n",
              "      <td>1.000000</td>\n",
              "    </tr>\n",
              "    <tr>\n",
              "      <th>25%</th>\n",
              "      <td>121.000000</td>\n",
              "      <td>12.000000</td>\n",
              "      <td>1.000000</td>\n",
              "      <td>1.000000</td>\n",
              "    </tr>\n",
              "    <tr>\n",
              "      <th>50%</th>\n",
              "      <td>162.000000</td>\n",
              "      <td>24.000000</td>\n",
              "      <td>3.000000</td>\n",
              "      <td>3.000000</td>\n",
              "    </tr>\n",
              "    <tr>\n",
              "      <th>75%</th>\n",
              "      <td>199.000000</td>\n",
              "      <td>48.000000</td>\n",
              "      <td>5.000000</td>\n",
              "      <td>3.000000</td>\n",
              "    </tr>\n",
              "    <tr>\n",
              "      <th>max</th>\n",
              "      <td>300.000000</td>\n",
              "      <td>48.000000</td>\n",
              "      <td>6.000000</td>\n",
              "      <td>5.000000</td>\n",
              "    </tr>\n",
              "  </tbody>\n",
              "</table>\n",
              "</div>\n",
              "      <button class=\"colab-df-convert\" onclick=\"convertToInteractive('df-88adfba8-4d95-4e41-883e-a43a690d9471')\"\n",
              "              title=\"Convert this dataframe to an interactive table.\"\n",
              "              style=\"display:none;\">\n",
              "        \n",
              "  <svg xmlns=\"http://www.w3.org/2000/svg\" height=\"24px\"viewBox=\"0 0 24 24\"\n",
              "       width=\"24px\">\n",
              "    <path d=\"M0 0h24v24H0V0z\" fill=\"none\"/>\n",
              "    <path d=\"M18.56 5.44l.94 2.06.94-2.06 2.06-.94-2.06-.94-.94-2.06-.94 2.06-2.06.94zm-11 1L8.5 8.5l.94-2.06 2.06-.94-2.06-.94L8.5 2.5l-.94 2.06-2.06.94zm10 10l.94 2.06.94-2.06 2.06-.94-2.06-.94-.94-2.06-.94 2.06-2.06.94z\"/><path d=\"M17.41 7.96l-1.37-1.37c-.4-.4-.92-.59-1.43-.59-.52 0-1.04.2-1.43.59L10.3 9.45l-7.72 7.72c-.78.78-.78 2.05 0 2.83L4 21.41c.39.39.9.59 1.41.59.51 0 1.02-.2 1.41-.59l7.78-7.78 2.81-2.81c.8-.78.8-2.07 0-2.86zM5.41 20L4 18.59l7.72-7.72 1.47 1.35L5.41 20z\"/>\n",
              "  </svg>\n",
              "      </button>\n",
              "      \n",
              "  <style>\n",
              "    .colab-df-container {\n",
              "      display:flex;\n",
              "      flex-wrap:wrap;\n",
              "      gap: 12px;\n",
              "    }\n",
              "\n",
              "    .colab-df-convert {\n",
              "      background-color: #E8F0FE;\n",
              "      border: none;\n",
              "      border-radius: 50%;\n",
              "      cursor: pointer;\n",
              "      display: none;\n",
              "      fill: #1967D2;\n",
              "      height: 32px;\n",
              "      padding: 0 0 0 0;\n",
              "      width: 32px;\n",
              "    }\n",
              "\n",
              "    .colab-df-convert:hover {\n",
              "      background-color: #E2EBFA;\n",
              "      box-shadow: 0px 1px 2px rgba(60, 64, 67, 0.3), 0px 1px 3px 1px rgba(60, 64, 67, 0.15);\n",
              "      fill: #174EA6;\n",
              "    }\n",
              "\n",
              "    [theme=dark] .colab-df-convert {\n",
              "      background-color: #3B4455;\n",
              "      fill: #D2E3FC;\n",
              "    }\n",
              "\n",
              "    [theme=dark] .colab-df-convert:hover {\n",
              "      background-color: #434B5C;\n",
              "      box-shadow: 0px 1px 3px 1px rgba(0, 0, 0, 0.15);\n",
              "      filter: drop-shadow(0px 1px 2px rgba(0, 0, 0, 0.3));\n",
              "      fill: #FFFFFF;\n",
              "    }\n",
              "  </style>\n",
              "\n",
              "      <script>\n",
              "        const buttonEl =\n",
              "          document.querySelector('#df-88adfba8-4d95-4e41-883e-a43a690d9471 button.colab-df-convert');\n",
              "        buttonEl.style.display =\n",
              "          google.colab.kernel.accessAllowed ? 'block' : 'none';\n",
              "\n",
              "        async function convertToInteractive(key) {\n",
              "          const element = document.querySelector('#df-88adfba8-4d95-4e41-883e-a43a690d9471');\n",
              "          const dataTable =\n",
              "            await google.colab.kernel.invokeFunction('convertToInteractive',\n",
              "                                                     [key], {});\n",
              "          if (!dataTable) return;\n",
              "\n",
              "          const docLinkHtml = 'Like what you see? Visit the ' +\n",
              "            '<a target=\"_blank\" href=https://colab.research.google.com/notebooks/data_table.ipynb>data table notebook</a>'\n",
              "            + ' to learn more about interactive tables.';\n",
              "          element.innerHTML = '';\n",
              "          dataTable['output_type'] = 'display_data';\n",
              "          await google.colab.output.renderOutput(dataTable, element);\n",
              "          const docLink = document.createElement('div');\n",
              "          docLink.innerHTML = docLinkHtml;\n",
              "          element.appendChild(docLink);\n",
              "        }\n",
              "      </script>\n",
              "    </div>\n",
              "  </div>\n",
              "  "
            ]
          },
          "metadata": {},
          "execution_count": 9
        }
      ]
    },
    {
      "cell_type": "code",
      "source": [
        ""
      ],
      "metadata": {
        "id": "GFfC0rYVc3g0"
      },
      "execution_count": null,
      "outputs": []
    },
    {
      "cell_type": "code",
      "execution_count": null,
      "metadata": {
        "colab": {
          "base_uri": "https://localhost:8080/"
        },
        "id": "_fXIU6pXGZ_7",
        "outputId": "1fcfafb2-721a-4798-e965-892172d3b7c5"
      },
      "outputs": [
        {
          "output_type": "execute_result",
          "data": {
            "text/plain": [
              "kode_kontrak               False\n",
              "pendapatan_setahun_juta    False\n",
              "kpr_aktif                  False\n",
              "durasi_pinjaman_bulan      False\n",
              "jumlah_tanggungan          False\n",
              "rata_rata_overdue          False\n",
              "risk_rating                False\n",
              "dtype: bool"
            ]
          },
          "metadata": {},
          "execution_count": 6
        }
      ],
      "source": [
        "df.isnull().any()"
      ]
    },
    {
      "cell_type": "code",
      "execution_count": null,
      "metadata": {
        "colab": {
          "base_uri": "https://localhost:8080/"
        },
        "id": "IW6QPAEdGioA",
        "outputId": "e7a7f09b-494e-4f71-b2e8-ddcf4fe8a9fe"
      },
      "outputs": [
        {
          "output_type": "execute_result",
          "data": {
            "text/plain": [
              "kode_kontrak               0\n",
              "pendapatan_setahun_juta    0\n",
              "kpr_aktif                  0\n",
              "durasi_pinjaman_bulan      0\n",
              "jumlah_tanggungan          0\n",
              "rata_rata_overdue          0\n",
              "risk_rating                0\n",
              "dtype: int64"
            ]
          },
          "metadata": {},
          "execution_count": 7
        }
      ],
      "source": [
        "df.isnull().sum()"
      ]
    },
    {
      "cell_type": "markdown",
      "source": [
        "# **EDA**"
      ],
      "metadata": {
        "id": "VRHLlN82c85J"
      }
    },
    {
      "cell_type": "code",
      "source": [
        "fig, ax = plt.subplots(figsize=(20,10)) \n",
        "sns.boxplot(data=df)"
      ],
      "metadata": {
        "colab": {
          "base_uri": "https://localhost:8080/",
          "height": 610
        },
        "id": "ft9AiTyeepCW",
        "outputId": "21d3060a-5f13-4c19-e024-6094594e0349"
      },
      "execution_count": null,
      "outputs": [
        {
          "output_type": "execute_result",
          "data": {
            "text/plain": [
              "<matplotlib.axes._subplots.AxesSubplot at 0x7f24005e0350>"
            ]
          },
          "metadata": {},
          "execution_count": 15
        },
        {
          "output_type": "display_data",
          "data": {
            "text/plain": [
              "<Figure size 1440x720 with 1 Axes>"
            ],
            "image/png": "[encoded data removed]"
          },
          "metadata": {
            "needs_background": "light"
          }
        }
      ]
    },
    {
      "cell_type": "code",
      "source": [
        "sns.pairplot(data = df, x_vars=['pendapatan_setahun_juta','kpr_aktif','durasi_pinjaman_bulan','jumlah_tanggungan','rata_rata_overdue'],y_vars=['risk_rating'])"
      ],
      "metadata": {
        "colab": {
          "base_uri": "https://localhost:8080/",
          "height": 215
        },
        "id": "JlPt_mAyeaJU",
        "outputId": "63cf59c1-571a-4431-f707-080d2056de98"
      },
      "execution_count": null,
      "outputs": [
        {
          "output_type": "execute_result",
          "data": {
            "text/plain": [
              "<seaborn.axisgrid.PairGrid at 0x7f24024b1e50>"
            ]
          },
          "metadata": {},
          "execution_count": 13
        },
        {
          "output_type": "display_data",
          "data": {
            "text/plain": [
              "<Figure size 900x180 with 5 Axes>"
            ],
            "image/png": "[encoded data removed]"
          },
          "metadata": {
            "needs_background": "light"
          }
        }
      ]
    },
    {
      "cell_type": "code",
      "execution_count": null,
      "metadata": {
        "colab": {
          "base_uri": "https://localhost:8080/",
          "height": 614
        },
        "id": "0dnSqt8jGogo",
        "outputId": "b86c7dbe-48b0-4449-8a09-8dba2eeafe3f"
      },
      "outputs": [
        {
          "output_type": "execute_result",
          "data": {
            "text/plain": [
              "<matplotlib.axes._subplots.AxesSubplot at 0x7f240224c8d0>"
            ]
          },
          "metadata": {},
          "execution_count": 16
        },
        {
          "output_type": "display_data",
          "data": {
            "text/plain": [
              "<Figure size 1440x720 with 2 Axes>"
            ],
            "image/png": "[encoded data removed]"
          },
          "metadata": {
            "needs_background": "light"
          }
        }
      ],
      "source": [
        "fig, ax = plt.subplots(figsize=(20,10)) \n",
        "corr = df.corr()                                #corr=korelasi\n",
        "sns.heatmap(corr,annot=True,fmt='.2f', cmap = \"RdYlBu\", ax=ax)"
      ]
    },
    {
      "cell_type": "code",
      "source": [
        "a = pd.get_dummies(df['kpr_aktif'],prefix = 'kpr')\n",
        "df1 = df.join(a)\n",
        "df1['overdue_label'] = df1['rata_rata_overdue'].astype('category').cat.codes"
      ],
      "metadata": {
        "id": "YbZRczcBfBYX"
      },
      "execution_count": null,
      "outputs": []
    },
    {
      "cell_type": "code",
      "execution_count": null,
      "metadata": {
        "id": "uAtQ_sGZMaZ7"
      },
      "outputs": [],
      "source": [
        "from sklearn.model_selection import train_test_split\n",
        "X = df1.drop(['kpr_aktif','rata_rata_overdue','kode_kontrak','risk_rating'],axis=1)\n",
        "Y = df1['risk_rating']\n",
        "Xtrain, Xtest, Ytrain, Ytest = train_test_split(X,Y, test_size= 0.2)"
      ]
    },
    {
      "cell_type": "markdown",
      "source": [
        "## **Linear regression**"
      ],
      "metadata": {
        "id": "HAdgZ03TfYL3"
      }
    },
    {
      "cell_type": "code",
      "source": [
        "#linear regression\n",
        "from sklearn.linear_model import LinearRegression\n",
        "regressor = LinearRegression()\n",
        "#fit model to train data\n",
        "regressor.fit(Xtrain,Ytrain)\n",
        "regressor.score(Xtest,Ytest)"
      ],
      "metadata": {
        "colab": {
          "base_uri": "https://localhost:8080/"
        },
        "id": "v_-qLXGYf285",
        "outputId": "92a3d6fc-c65b-4dfb-e094-2b427287b6d5"
      },
      "execution_count": null,
      "outputs": [
        {
          "output_type": "execute_result",
          "data": {
            "text/plain": [
              "1.0"
            ]
          },
          "metadata": {},
          "execution_count": 22
        }
      ]
    },
    {
      "cell_type": "markdown",
      "source": [
        "## **Ridge regression**"
      ],
      "metadata": {
        "id": "U2ucjTdFfanJ"
      }
    },
    {
      "cell_type": "code",
      "source": [
        "#Ridge regression\n",
        "from sklearn.linear_model import Ridge\n",
        "regressor2 = Ridge(alpha= 0.5)\n",
        "#fit model to train data\n",
        "regressor2.fit(Xtrain,Ytrain)\n",
        "regressor2.score(Xtest,Ytest)"
      ],
      "metadata": {
        "colab": {
          "base_uri": "https://localhost:8080/"
        },
        "id": "PK5xQ7off1s6",
        "outputId": "e82a45f5-6ad9-4f9c-dc22-5f1f1937ed27"
      },
      "execution_count": null,
      "outputs": [
        {
          "output_type": "execute_result",
          "data": {
            "text/plain": [
              "0.9999992952748887"
            ]
          },
          "metadata": {},
          "execution_count": 23
        }
      ]
    },
    {
      "cell_type": "markdown",
      "source": [
        "## **Lasso regression**"
      ],
      "metadata": {
        "id": "yhIK951qfj2g"
      }
    },
    {
      "cell_type": "code",
      "source": [
        "#lasso regression\n",
        "from sklearn.linear_model import Lasso\n",
        "regressor3 = Ridge(alpha= 0.5)\n",
        "#fit model to train data\n",
        "regressor3.fit(Xtrain,Ytrain)\n",
        "regressor3.score(Xtest,Ytest)"
      ],
      "metadata": {
        "colab": {
          "base_uri": "https://localhost:8080/"
        },
        "id": "YquehAXkgOZ9",
        "outputId": "d44c37f7-d7cf-4d6b-cd39-a3ec5f3cef8b"
      },
      "execution_count": null,
      "outputs": [
        {
          "output_type": "execute_result",
          "data": {
            "text/plain": [
              "0.9999992952748887"
            ]
          },
          "metadata": {},
          "execution_count": 24
        }
      ]
    },
    {
      "cell_type": "markdown",
      "source": [
        "## **ElasticNet regression**"
      ],
      "metadata": {
        "id": "34AwrW0JfpWZ"
      }
    },
    {
      "cell_type": "code",
      "source": [
        "#lasso regression\n",
        "from sklearn.linear_model import ElasticNet\n",
        "regressor4 = ElasticNet(alpha=3)\n",
        "#fit model to train data\n",
        "regressor4.fit(Xtrain,Ytrain)\n",
        "regressor4.score(Xtest,Ytest)\n"
      ],
      "metadata": {
        "colab": {
          "base_uri": "https://localhost:8080/"
        },
        "id": "nImveZtPgN1o",
        "outputId": "99297a13-7cb2-4b4b-a7c6-b840c75b7788"
      },
      "execution_count": null,
      "outputs": [
        {
          "output_type": "execute_result",
          "data": {
            "text/plain": [
              "0.22326321017465545"
            ]
          },
          "metadata": {},
          "execution_count": 26
        }
      ]
    },
    {
      "cell_type": "markdown",
      "source": [
        "## **Logistic regression**"
      ],
      "metadata": {
        "id": "t9wYx79sfu58"
      }
    },
    {
      "cell_type": "code",
      "source": [
        "#logistic regression\n",
        "from sklearn.linear_model import LogisticRegression\n",
        "regressor5 = LogisticRegression()\n",
        "#fit model to train data\n",
        "regressor5.fit(Xtrain,Ytrain)\n",
        "regressor5.score(Xtest,Ytest)"
      ],
      "metadata": {
        "colab": {
          "base_uri": "https://localhost:8080/"
        },
        "id": "y3PJCC-Zg8U5",
        "outputId": "f6fcefe3-7b07-4e28-d9fb-b523780837da"
      },
      "execution_count": null,
      "outputs": [
        {
          "output_type": "stream",
          "name": "stderr",
          "text": [
            "/usr/local/lib/python3.7/dist-packages/sklearn/linear_model/_logistic.py:818: ConvergenceWarning:\n",
            "\n",
            "lbfgs failed to converge (status=1):\n",
            "STOP: TOTAL NO. of ITERATIONS REACHED LIMIT.\n",
            "\n",
            "Increase the number of iterations (max_iter) or scale the data as shown in:\n",
            "    https://scikit-learn.org/stable/modules/preprocessing.html\n",
            "Please also refer to the documentation for alternative solver options:\n",
            "    https://scikit-learn.org/stable/modules/linear_model.html#logistic-regression\n",
            "\n"
          ]
        },
        {
          "output_type": "execute_result",
          "data": {
            "text/plain": [
              "0.8555555555555555"
            ]
          },
          "metadata": {},
          "execution_count": 27
        }
      ]
    },
    {
      "cell_type": "markdown",
      "source": [
        "# **Predict & Evaluation**"
      ],
      "metadata": {
        "id": "oWV17r-Nh5NR"
      }
    },
    {
      "cell_type": "markdown",
      "source": [
        "## **Linear regression**"
      ],
      "metadata": {
        "id": "OagQ-YGAjuwb"
      }
    },
    {
      "cell_type": "code",
      "source": [
        "pred  = regressor.predict(Xtest)"
      ],
      "metadata": {
        "id": "FJP89zD7h876"
      },
      "execution_count": null,
      "outputs": []
    },
    {
      "cell_type": "code",
      "source": [
        "#evaluation model linear\n",
        "from sklearn.metrics import mean_squared_error\n",
        "print('MSE : %.2f' %mean_squared_error(Ytest,pred))"
      ],
      "metadata": {
        "colab": {
          "base_uri": "https://localhost:8080/"
        },
        "id": "mU4BXucEj0el",
        "outputId": "8db1d9cc-da95-4bf1-fceb-8e164f2d0cdd"
      },
      "execution_count": null,
      "outputs": [
        {
          "output_type": "stream",
          "name": "stdout",
          "text": [
            "MSE : 0.21\n"
          ]
        }
      ]
    },
    {
      "cell_type": "markdown",
      "source": [
        "## **Ridge regression**"
      ],
      "metadata": {
        "id": "kmsWrEDzj8vF"
      }
    },
    {
      "cell_type": "code",
      "source": [
        "pred2  = regressor2.predict(Xtest)"
      ],
      "metadata": {
        "id": "yMjqFo44iBde"
      },
      "execution_count": null,
      "outputs": []
    },
    {
      "cell_type": "code",
      "source": [
        "#evaluation model linear\n",
        "from sklearn.metrics import mean_squared_error\n",
        "print('MSE : %.2f' %mean_squared_error(Ytest,pred2))"
      ],
      "metadata": {
        "colab": {
          "base_uri": "https://localhost:8080/"
        },
        "id": "KhnQ1sA5kAD7",
        "outputId": "09f36377-4442-4e47-8dca-1fa846ace765"
      },
      "execution_count": null,
      "outputs": [
        {
          "output_type": "stream",
          "name": "stdout",
          "text": [
            "MSE : 0.00\n"
          ]
        }
      ]
    },
    {
      "cell_type": "markdown",
      "source": [
        "## **Lasso regression**"
      ],
      "metadata": {
        "id": "b2TEmWO0kLeY"
      }
    },
    {
      "cell_type": "code",
      "source": [
        "pred3  = regressor3.predict(Xtest)"
      ],
      "metadata": {
        "id": "uHc432q3iHlw"
      },
      "execution_count": null,
      "outputs": []
    },
    {
      "cell_type": "code",
      "source": [
        "#evaluation model linear\n",
        "from sklearn.metrics import mean_squared_error\n",
        "print('MSE : %.2f' %mean_squared_error(Ytest,pred3))"
      ],
      "metadata": {
        "colab": {
          "base_uri": "https://localhost:8080/"
        },
        "id": "6VrdBJPFkOKf",
        "outputId": "5c4a7ef4-cde0-4451-f124-3c3c3e5f628a"
      },
      "execution_count": null,
      "outputs": [
        {
          "output_type": "stream",
          "name": "stdout",
          "text": [
            "MSE : 0.00\n"
          ]
        }
      ]
    },
    {
      "cell_type": "markdown",
      "source": [
        "## **ElasticNet regression**"
      ],
      "metadata": {
        "id": "kNSGy4lNkU5K"
      }
    },
    {
      "cell_type": "code",
      "source": [
        "pred4  = regressor4.predict(Xtest)"
      ],
      "metadata": {
        "id": "TZmuhwUCiK36"
      },
      "execution_count": null,
      "outputs": []
    },
    {
      "cell_type": "code",
      "source": [
        "#evaluation model linear\n",
        "from sklearn.metrics import mean_squared_error\n",
        "print('MSE : %.2f' %mean_squared_error(Ytest,pred4))"
      ],
      "metadata": {
        "colab": {
          "base_uri": "https://localhost:8080/"
        },
        "id": "l3DUdymKka-n",
        "outputId": "3f653356-0a61-4aee-ab01-636244cae64f"
      },
      "execution_count": null,
      "outputs": [
        {
          "output_type": "stream",
          "name": "stdout",
          "text": [
            "MSE : 1.34\n"
          ]
        }
      ]
    },
    {
      "cell_type": "markdown",
      "source": [
        "## **Logistic regression**"
      ],
      "metadata": {
        "id": "s9-yFNPtkgZG"
      }
    },
    {
      "cell_type": "code",
      "source": [
        "pred5  = regressor5.predict(Xtest)"
      ],
      "metadata": {
        "id": "q9wH4_QUiNQZ"
      },
      "execution_count": null,
      "outputs": []
    },
    {
      "cell_type": "code",
      "source": [
        "#evaluation model linear\n",
        "from sklearn.metrics import mean_squared_error\n",
        "print('MSE : %.2f' %mean_squared_error(Ytest,pred5))"
      ],
      "metadata": {
        "colab": {
          "base_uri": "https://localhost:8080/"
        },
        "id": "bjGhVaHrkiH_",
        "outputId": "cdcafa60-c2c0-4c4e-8cbb-066676ddb505"
      },
      "execution_count": null,
      "outputs": [
        {
          "output_type": "stream",
          "name": "stdout",
          "text": [
            "MSE : 0.21\n"
          ]
        }
      ]
    },
    {
      "cell_type": "markdown",
      "source": [
        "# **PCA**"
      ],
      "metadata": {
        "id": "o1iSO2zNlevu"
      }
    },
    {
      "cell_type": "code",
      "source": [
        "predictor = ['pendapatan_setahun_juta','kpr_TIDAK','kpr_YA','durasi_pinjaman_bulan','jumlah_tanggungan','overdue_label']\n",
        "x = df1[predictor].values\n",
        "y = df1['risk_rating']"
      ],
      "metadata": {
        "id": "6Z0wwQu7lhCa"
      },
      "execution_count": null,
      "outputs": []
    },
    {
      "cell_type": "code",
      "source": [
        "from sklearn.preprocessing import StandardScaler\n",
        "scaler = StandardScaler()\n",
        "scaler.fit(x)\n",
        "x_std = scaler.transform(x)"
      ],
      "metadata": {
        "id": "wOcOqLUMlpoz"
      },
      "execution_count": null,
      "outputs": []
    },
    {
      "cell_type": "code",
      "source": [
        "df2 = pd.DataFrame(data=x_std, columns=predictor)\n",
        "df2.head()"
      ],
      "metadata": {
        "colab": {
          "base_uri": "https://localhost:8080/",
          "height": 206
        },
        "id": "iXyuQ4FimQPB",
        "outputId": "70c99815-73db-4656-8d7b-a778de9cd239"
      },
      "execution_count": null,
      "outputs": [
        {
          "output_type": "execute_result",
          "data": {
            "text/plain": [
              "   pendapatan_setahun_juta  kpr_TIDAK    kpr_YA  durasi_pinjaman_bulan  \\\n",
              "0                 2.540420  -0.868554  0.868554               1.322171   \n",
              "1                 2.077407  -0.868554  0.868554               0.443976   \n",
              "2                -0.083321   1.151339 -1.151339              -1.312414   \n",
              "3                 0.900582  -0.868554  0.868554              -1.312414   \n",
              "4                 0.032432   1.151339 -1.151339               0.443976   \n",
              "\n",
              "   jumlah_tanggungan  overdue_label  \n",
              "0           1.030621       1.019070  \n",
              "1           1.030621       1.019070  \n",
              "2          -1.461477      -1.298949  \n",
              "3           0.033782       0.246397  \n",
              "4          -1.461477      -0.526276  "
            ],
            "text/html": [
              "\n",
              "  <div id=\"df-04c5a714-1eca-482d-8c32-42ae766c6139\">\n",
              "    <div class=\"colab-df-container\">\n",
              "      <div>\n",
              "<style scoped>\n",
              "    .dataframe tbody tr th:only-of-type {\n",
              "        vertical-align: middle;\n",
              "    }\n",
              "\n",
              "    .dataframe tbody tr th {\n",
              "        vertical-align: top;\n",
              "    }\n",
              "\n",
              "    .dataframe thead th {\n",
              "        text-align: right;\n",
              "    }\n",
              "</style>\n",
              "<table border=\"1\" class=\"dataframe\">\n",
              "  <thead>\n",
              "    <tr style=\"text-align: right;\">\n",
              "      <th></th>\n",
              "      <th>pendapatan_setahun_juta</th>\n",
              "      <th>kpr_TIDAK</th>\n",
              "      <th>kpr_YA</th>\n",
              "      <th>durasi_pinjaman_bulan</th>\n",
              "      <th>jumlah_tanggungan</th>\n",
              "      <th>overdue_label</th>\n",
              "    </tr>\n",
              "  </thead>\n",
              "  <tbody>\n",
              "    <tr>\n",
              "      <th>0</th>\n",
              "      <td>2.540420</td>\n",
              "      <td>-0.868554</td>\n",
              "      <td>0.868554</td>\n",
              "      <td>1.322171</td>\n",
              "      <td>1.030621</td>\n",
              "      <td>1.019070</td>\n",
              "    </tr>\n",
              "    <tr>\n",
              "      <th>1</th>\n",
              "      <td>2.077407</td>\n",
              "      <td>-0.868554</td>\n",
              "      <td>0.868554</td>\n",
              "      <td>0.443976</td>\n",
              "      <td>1.030621</td>\n",
              "      <td>1.019070</td>\n",
              "    </tr>\n",
              "    <tr>\n",
              "      <th>2</th>\n",
              "      <td>-0.083321</td>\n",
              "      <td>1.151339</td>\n",
              "      <td>-1.151339</td>\n",
              "      <td>-1.312414</td>\n",
              "      <td>-1.461477</td>\n",
              "      <td>-1.298949</td>\n",
              "    </tr>\n",
              "    <tr>\n",
              "      <th>3</th>\n",
              "      <td>0.900582</td>\n",
              "      <td>-0.868554</td>\n",
              "      <td>0.868554</td>\n",
              "      <td>-1.312414</td>\n",
              "      <td>0.033782</td>\n",
              "      <td>0.246397</td>\n",
              "    </tr>\n",
              "    <tr>\n",
              "      <th>4</th>\n",
              "      <td>0.032432</td>\n",
              "      <td>1.151339</td>\n",
              "      <td>-1.151339</td>\n",
              "      <td>0.443976</td>\n",
              "      <td>-1.461477</td>\n",
              "      <td>-0.526276</td>\n",
              "    </tr>\n",
              "  </tbody>\n",
              "</table>\n",
              "</div>\n",
              "      <button class=\"colab-df-convert\" onclick=\"convertToInteractive('df-04c5a714-1eca-482d-8c32-42ae766c6139')\"\n",
              "              title=\"Convert this dataframe to an interactive table.\"\n",
              "              style=\"display:none;\">\n",
              "        \n",
              "  <svg xmlns=\"http://www.w3.org/2000/svg\" height=\"24px\"viewBox=\"0 0 24 24\"\n",
              "       width=\"24px\">\n",
              "    <path d=\"M0 0h24v24H0V0z\" fill=\"none\"/>\n",
              "    <path d=\"M18.56 5.44l.94 2.06.94-2.06 2.06-.94-2.06-.94-.94-2.06-.94 2.06-2.06.94zm-11 1L8.5 8.5l.94-2.06 2.06-.94-2.06-.94L8.5 2.5l-.94 2.06-2.06.94zm10 10l.94 2.06.94-2.06 2.06-.94-2.06-.94-.94-2.06-.94 2.06-2.06.94z\"/><path d=\"M17.41 7.96l-1.37-1.37c-.4-.4-.92-.59-1.43-.59-.52 0-1.04.2-1.43.59L10.3 9.45l-7.72 7.72c-.78.78-.78 2.05 0 2.83L4 21.41c.39.39.9.59 1.41.59.51 0 1.02-.2 1.41-.59l7.78-7.78 2.81-2.81c.8-.78.8-2.07 0-2.86zM5.41 20L4 18.59l7.72-7.72 1.47 1.35L5.41 20z\"/>\n",
              "  </svg>\n",
              "      </button>\n",
              "      \n",
              "  <style>\n",
              "    .colab-df-container {\n",
              "      display:flex;\n",
              "      flex-wrap:wrap;\n",
              "      gap: 12px;\n",
              "    }\n",
              "\n",
              "    .colab-df-convert {\n",
              "      background-color: #E8F0FE;\n",
              "      border: none;\n",
              "      border-radius: 50%;\n",
              "      cursor: pointer;\n",
              "      display: none;\n",
              "      fill: #1967D2;\n",
              "      height: 32px;\n",
              "      padding: 0 0 0 0;\n",
              "      width: 32px;\n",
              "    }\n",
              "\n",
              "    .colab-df-convert:hover {\n",
              "      background-color: #E2EBFA;\n",
              "      box-shadow: 0px 1px 2px rgba(60, 64, 67, 0.3), 0px 1px 3px 1px rgba(60, 64, 67, 0.15);\n",
              "      fill: #174EA6;\n",
              "    }\n",
              "\n",
              "    [theme=dark] .colab-df-convert {\n",
              "      background-color: #3B4455;\n",
              "      fill: #D2E3FC;\n",
              "    }\n",
              "\n",
              "    [theme=dark] .colab-df-convert:hover {\n",
              "      background-color: #434B5C;\n",
              "      box-shadow: 0px 1px 3px 1px rgba(0, 0, 0, 0.15);\n",
              "      filter: drop-shadow(0px 1px 2px rgba(0, 0, 0, 0.3));\n",
              "      fill: #FFFFFF;\n",
              "    }\n",
              "  </style>\n",
              "\n",
              "      <script>\n",
              "        const buttonEl =\n",
              "          document.querySelector('#df-04c5a714-1eca-482d-8c32-42ae766c6139 button.colab-df-convert');\n",
              "        buttonEl.style.display =\n",
              "          google.colab.kernel.accessAllowed ? 'block' : 'none';\n",
              "\n",
              "        async function convertToInteractive(key) {\n",
              "          const element = document.querySelector('#df-04c5a714-1eca-482d-8c32-42ae766c6139');\n",
              "          const dataTable =\n",
              "            await google.colab.kernel.invokeFunction('convertToInteractive',\n",
              "                                                     [key], {});\n",
              "          if (!dataTable) return;\n",
              "\n",
              "          const docLinkHtml = 'Like what you see? Visit the ' +\n",
              "            '<a target=\"_blank\" href=https://colab.research.google.com/notebooks/data_table.ipynb>data table notebook</a>'\n",
              "            + ' to learn more about interactive tables.';\n",
              "          element.innerHTML = '';\n",
              "          dataTable['output_type'] = 'display_data';\n",
              "          await google.colab.output.renderOutput(dataTable, element);\n",
              "          const docLink = document.createElement('div');\n",
              "          docLink.innerHTML = docLinkHtml;\n",
              "          element.appendChild(docLink);\n",
              "        }\n",
              "      </script>\n",
              "    </div>\n",
              "  </div>\n",
              "  "
            ]
          },
          "metadata": {},
          "execution_count": 48
        }
      ]
    },
    {
      "cell_type": "code",
      "source": [
        "from sklearn.decomposition import PCA\n",
        "pca = PCA(n_components=4).fit_transform(x_std)\n",
        "pdf = pd.DataFrame(data=pca,columns=['pc1','pc2','pc3','pc4'])\n",
        "pdf['risk_rating'] = y\n",
        "pdf.describe()"
      ],
      "metadata": {
        "colab": {
          "base_uri": "https://localhost:8080/",
          "height": 300
        },
        "id": "KhSAh3-2mfRD",
        "outputId": "117e3d64-cd7a-400b-ef65-08d31dcc4e01"
      },
      "execution_count": null,
      "outputs": [
        {
          "output_type": "execute_result",
          "data": {
            "text/plain": [
              "                pc1           pc2           pc3           pc4  risk_rating\n",
              "count  9.000000e+02  9.000000e+02  9.000000e+02  9.000000e+02   900.000000\n",
              "mean   1.036208e-17 -6.537980e-18  2.800229e-17 -1.103130e-16     2.681111\n",
              "std    1.860202e+00  1.047820e+00  9.329683e-01  6.541658e-01     1.294928\n",
              "min   -2.796346e+00 -2.621271e+00 -2.363783e+00 -1.815364e+00     1.000000\n",
              "25%   -1.483122e+00 -6.762233e-01 -6.701585e-01 -4.265082e-01     1.000000\n",
              "50%   -8.193420e-01  3.474447e-02  6.535595e-03 -5.440553e-02     3.000000\n",
              "75%    2.034713e+00  7.397857e-01  5.870445e-01  3.557636e-01     3.000000\n",
              "max    2.805577e+00  2.709460e+00  2.421818e+00  2.902558e+00     5.000000"
            ],
            "text/html": [
              "\n",
              "  <div id=\"df-fbe58b27-9bca-49cf-8d63-cf0c23a61a7f\">\n",
              "    <div class=\"colab-df-container\">\n",
              "      <div>\n",
              "<style scoped>\n",
              "    .dataframe tbody tr th:only-of-type {\n",
              "        vertical-align: middle;\n",
              "    }\n",
              "\n",
              "    .dataframe tbody tr th {\n",
              "        vertical-align: top;\n",
              "    }\n",
              "\n",
              "    .dataframe thead th {\n",
              "        text-align: right;\n",
              "    }\n",
              "</style>\n",
              "<table border=\"1\" class=\"dataframe\">\n",
              "  <thead>\n",
              "    <tr style=\"text-align: right;\">\n",
              "      <th></th>\n",
              "      <th>pc1</th>\n",
              "      <th>pc2</th>\n",
              "      <th>pc3</th>\n",
              "      <th>pc4</th>\n",
              "      <th>risk_rating</th>\n",
              "    </tr>\n",
              "  </thead>\n",
              "  <tbody>\n",
              "    <tr>\n",
              "      <th>count</th>\n",
              "      <td>9.000000e+02</td>\n",
              "      <td>9.000000e+02</td>\n",
              "      <td>9.000000e+02</td>\n",
              "      <td>9.000000e+02</td>\n",
              "      <td>900.000000</td>\n",
              "    </tr>\n",
              "    <tr>\n",
              "      <th>mean</th>\n",
              "      <td>1.036208e-17</td>\n",
              "      <td>-6.537980e-18</td>\n",
              "      <td>2.800229e-17</td>\n",
              "      <td>-1.103130e-16</td>\n",
              "      <td>2.681111</td>\n",
              "    </tr>\n",
              "    <tr>\n",
              "      <th>std</th>\n",
              "      <td>1.860202e+00</td>\n",
              "      <td>1.047820e+00</td>\n",
              "      <td>9.329683e-01</td>\n",
              "      <td>6.541658e-01</td>\n",
              "      <td>1.294928</td>\n",
              "    </tr>\n",
              "    <tr>\n",
              "      <th>min</th>\n",
              "      <td>-2.796346e+00</td>\n",
              "      <td>-2.621271e+00</td>\n",
              "      <td>-2.363783e+00</td>\n",
              "      <td>-1.815364e+00</td>\n",
              "      <td>1.000000</td>\n",
              "    </tr>\n",
              "    <tr>\n",
              "      <th>25%</th>\n",
              "      <td>-1.483122e+00</td>\n",
              "      <td>-6.762233e-01</td>\n",
              "      <td>-6.701585e-01</td>\n",
              "      <td>-4.265082e-01</td>\n",
              "      <td>1.000000</td>\n",
              "    </tr>\n",
              "    <tr>\n",
              "      <th>50%</th>\n",
              "      <td>-8.193420e-01</td>\n",
              "      <td>3.474447e-02</td>\n",
              "      <td>6.535595e-03</td>\n",
              "      <td>-5.440553e-02</td>\n",
              "      <td>3.000000</td>\n",
              "    </tr>\n",
              "    <tr>\n",
              "      <th>75%</th>\n",
              "      <td>2.034713e+00</td>\n",
              "      <td>7.397857e-01</td>\n",
              "      <td>5.870445e-01</td>\n",
              "      <td>3.557636e-01</td>\n",
              "      <td>3.000000</td>\n",
              "    </tr>\n",
              "    <tr>\n",
              "      <th>max</th>\n",
              "      <td>2.805577e+00</td>\n",
              "      <td>2.709460e+00</td>\n",
              "      <td>2.421818e+00</td>\n",
              "      <td>2.902558e+00</td>\n",
              "      <td>5.000000</td>\n",
              "    </tr>\n",
              "  </tbody>\n",
              "</table>\n",
              "</div>\n",
              "      <button class=\"colab-df-convert\" onclick=\"convertToInteractive('df-fbe58b27-9bca-49cf-8d63-cf0c23a61a7f')\"\n",
              "              title=\"Convert this dataframe to an interactive table.\"\n",
              "              style=\"display:none;\">\n",
              "        \n",
              "  <svg xmlns=\"http://www.w3.org/2000/svg\" height=\"24px\"viewBox=\"0 0 24 24\"\n",
              "       width=\"24px\">\n",
              "    <path d=\"M0 0h24v24H0V0z\" fill=\"none\"/>\n",
              "    <path d=\"M18.56 5.44l.94 2.06.94-2.06 2.06-.94-2.06-.94-.94-2.06-.94 2.06-2.06.94zm-11 1L8.5 8.5l.94-2.06 2.06-.94-2.06-.94L8.5 2.5l-.94 2.06-2.06.94zm10 10l.94 2.06.94-2.06 2.06-.94-2.06-.94-.94-2.06-.94 2.06-2.06.94z\"/><path d=\"M17.41 7.96l-1.37-1.37c-.4-.4-.92-.59-1.43-.59-.52 0-1.04.2-1.43.59L10.3 9.45l-7.72 7.72c-.78.78-.78 2.05 0 2.83L4 21.41c.39.39.9.59 1.41.59.51 0 1.02-.2 1.41-.59l7.78-7.78 2.81-2.81c.8-.78.8-2.07 0-2.86zM5.41 20L4 18.59l7.72-7.72 1.47 1.35L5.41 20z\"/>\n",
              "  </svg>\n",
              "      </button>\n",
              "      \n",
              "  <style>\n",
              "    .colab-df-container {\n",
              "      display:flex;\n",
              "      flex-wrap:wrap;\n",
              "      gap: 12px;\n",
              "    }\n",
              "\n",
              "    .colab-df-convert {\n",
              "      background-color: #E8F0FE;\n",
              "      border: none;\n",
              "      border-radius: 50%;\n",
              "      cursor: pointer;\n",
              "      display: none;\n",
              "      fill: #1967D2;\n",
              "      height: 32px;\n",
              "      padding: 0 0 0 0;\n",
              "      width: 32px;\n",
              "    }\n",
              "\n",
              "    .colab-df-convert:hover {\n",
              "      background-color: #E2EBFA;\n",
              "      box-shadow: 0px 1px 2px rgba(60, 64, 67, 0.3), 0px 1px 3px 1px rgba(60, 64, 67, 0.15);\n",
              "      fill: #174EA6;\n",
              "    }\n",
              "\n",
              "    [theme=dark] .colab-df-convert {\n",
              "      background-color: #3B4455;\n",
              "      fill: #D2E3FC;\n",
              "    }\n",
              "\n",
              "    [theme=dark] .colab-df-convert:hover {\n",
              "      background-color: #434B5C;\n",
              "      box-shadow: 0px 1px 3px 1px rgba(0, 0, 0, 0.15);\n",
              "      filter: drop-shadow(0px 1px 2px rgba(0, 0, 0, 0.3));\n",
              "      fill: #FFFFFF;\n",
              "    }\n",
              "  </style>\n",
              "\n",
              "      <script>\n",
              "        const buttonEl =\n",
              "          document.querySelector('#df-fbe58b27-9bca-49cf-8d63-cf0c23a61a7f button.colab-df-convert');\n",
              "        buttonEl.style.display =\n",
              "          google.colab.kernel.accessAllowed ? 'block' : 'none';\n",
              "\n",
              "        async function convertToInteractive(key) {\n",
              "          const element = document.querySelector('#df-fbe58b27-9bca-49cf-8d63-cf0c23a61a7f');\n",
              "          const dataTable =\n",
              "            await google.colab.kernel.invokeFunction('convertToInteractive',\n",
              "                                                     [key], {});\n",
              "          if (!dataTable) return;\n",
              "\n",
              "          const docLinkHtml = 'Like what you see? Visit the ' +\n",
              "            '<a target=\"_blank\" href=https://colab.research.google.com/notebooks/data_table.ipynb>data table notebook</a>'\n",
              "            + ' to learn more about interactive tables.';\n",
              "          element.innerHTML = '';\n",
              "          dataTable['output_type'] = 'display_data';\n",
              "          await google.colab.output.renderOutput(dataTable, element);\n",
              "          const docLink = document.createElement('div');\n",
              "          docLink.innerHTML = docLinkHtml;\n",
              "          element.appendChild(docLink);\n",
              "        }\n",
              "      </script>\n",
              "    </div>\n",
              "  </div>\n",
              "  "
            ]
          },
          "metadata": {},
          "execution_count": 50
        }
      ]
    },
    {
      "cell_type": "code",
      "source": [
        "q = pdf.drop(['risk_rating'], axis = 1)\n",
        "w = pdf['risk_rating']\n",
        "qtrain, qtest, wtrain, wtest = train_test_split(q,w, test_size = 0.3)"
      ],
      "metadata": {
        "id": "cKz3CMyim_GH"
      },
      "execution_count": null,
      "outputs": []
    },
    {
      "cell_type": "code",
      "source": [
        "reg = LinearRegression()\n",
        "reg.fit(qtrain, wtrain)\n",
        "reg.score(qtest, wtest)"
      ],
      "metadata": {
        "colab": {
          "base_uri": "https://localhost:8080/"
        },
        "id": "jyfQHDiWnCLC",
        "outputId": "1ca62da2-54a8-435f-a123-706c01c771ea"
      },
      "execution_count": null,
      "outputs": [
        {
          "output_type": "execute_result",
          "data": {
            "text/plain": [
              "0.8807710700152602"
            ]
          },
          "metadata": {},
          "execution_count": 52
        }
      ]
    },
    {
      "cell_type": "code",
      "source": [
        "pred6 = reg.predict(qtest)"
      ],
      "metadata": {
        "id": "dPr-RYZsnM12"
      },
      "execution_count": null,
      "outputs": []
    },
    {
      "cell_type": "code",
      "source": [
        "print('MSE Setelah PCA : %.2f' %mean_squared_error(wtest,pred6))"
      ],
      "metadata": {
        "colab": {
          "base_uri": "https://localhost:8080/"
        },
        "id": "pLM_xG_3nQSu",
        "outputId": "f495cda2-2368-4555-b56d-f65d106bcbd8"
      },
      "execution_count": null,
      "outputs": [
        {
          "output_type": "stream",
          "name": "stdout",
          "text": [
            "MSE Setelah PCA : 0.17\n"
          ]
        }
      ]
    },
    {
      "cell_type": "markdown",
      "source": [
        "# **Kesimpulan**"
      ],
      "metadata": {
        "id": "-txglMbhok5p"
      }
    },
    {
      "cell_type": "markdown",
      "source": [
        "Dari hasil analisis regression dan PCA, dapat kita lihat bahwa lebih baik menggunakan Ridge Regression dan Lasso Regression dibandingkan PCA."
      ],
      "metadata": {
        "id": "EOppAQLToq_B"
      }
    }
  ],
  "metadata": {
    "colab": {
      "name": "Task9_Nida Khairunnisa Kusumawardhani",
      "provenance": [],
      "collapsed_sections": []
    },
    "kernelspec": {
      "display_name": "Python 3",
      "name": "python3"
    },
    "language_info": {
      "name": "python"
    }
  },
  "nbformat": 4,
  "nbformat_minor": 0
}